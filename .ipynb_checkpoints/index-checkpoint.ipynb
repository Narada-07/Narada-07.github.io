{
 "cells": [
  {
   "cell_type": "markdown",
   "id": "59a28032-0eb3-459d-b373-f04a94bf4906",
   "metadata": {},
   "source": [
    "# Expository Blog For Qlik Sense"
   ]
  },
  {
   "cell_type": "markdown",
   "id": "4d343ea7-6f29-47ab-8394-b1588d0e52fb",
   "metadata": {},
   "source": [
    "### Introduction"
   ]
  },
  {
   "cell_type": "markdown",
   "id": "3658a5be-dc58-445d-9e1c-669e31facedb",
   "metadata": {},
   "source": [
    "Qlik Sense is a self-service Business Intelligence (BI) tool that can be used for creating interactive data visualizations with ease."
   ]
  }
 ],
 "metadata": {
  "kernelspec": {
   "display_name": "Python 3 (ipykernel)",
   "language": "python",
   "name": "python3"
  },
  "language_info": {
   "codemirror_mode": {
    "name": "ipython",
    "version": 3
   },
   "file_extension": ".py",
   "mimetype": "text/x-python",
   "name": "python",
   "nbconvert_exporter": "python",
   "pygments_lexer": "ipython3",
   "version": "3.13.2"
  }
 },
 "nbformat": 4,
 "nbformat_minor": 5
}
