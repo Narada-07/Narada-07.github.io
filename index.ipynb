{
 "cells": [
  {
   "cell_type": "markdown",
   "id": "b89d38b8-5af4-4ba6-895c-364e8115b6ca",
   "metadata": {},
   "source": [
    "# Expository Blog For Qlik Sense"
   ]
  },
  {
   "cell_type": "markdown",
   "id": "7a072b60-1cef-40fb-a137-02699fee1f78",
   "metadata": {},
   "source": [
    "### Introduction"
   ]
  },
  {
   "cell_type": "markdown",
   "id": "400aed4e-eea7-45d4-868d-63e5180fc19d",
   "metadata": {},
   "source": [
    "Qlik Sense is a self-service Business Intelligence (BI) tool that can be used for creating interactive data visualizations with ease."
   ]
  },
  {
   "cell_type": "markdown",
   "id": "57622232-b221-42ce-9b94-71e5aa494a6c",
   "metadata": {},
   "source": [
    "### Installation and Configuration"
   ]
  },
  {
   "cell_type": "markdown",
   "id": "65bc674c-0c3a-49e5-b8c6-e7c4944b0f08",
   "metadata": {},
   "source": [
    "1. Go to the given GitHub page and download the setup.exe for the latest patch"
   ]
  },
  {
   "cell_type": "markdown",
   "id": "697eb75e-7482-4d8e-a7fe-bb21f8a1adb3",
   "metadata": {},
   "source": [
    "![](Installation_Steps/step1.png)"
   ]
  }
 ],
 "metadata": {
  "kernelspec": {
   "display_name": "Python 3 (ipykernel)",
   "language": "python",
   "name": "python3"
  },
  "language_info": {
   "codemirror_mode": {
    "name": "ipython",
    "version": 3
   },
   "file_extension": ".py",
   "mimetype": "text/x-python",
   "name": "python",
   "nbconvert_exporter": "python",
   "pygments_lexer": "ipython3",
   "version": "3.13.2"
  }
 },
 "nbformat": 4,
 "nbformat_minor": 5
}
