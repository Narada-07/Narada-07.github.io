{
 "cells": [
  {
   "cell_type": "markdown",
   "id": "b89d38b8-5af4-4ba6-895c-364e8115b6ca",
   "metadata": {},
   "source": [
    "# Expository Blog For Qlik Sense"
   ]
  },
  {
   "cell_type": "markdown",
   "id": "7a072b60-1cef-40fb-a137-02699fee1f78",
   "metadata": {},
   "source": [
    "### Introduction"
   ]
  },
  {
   "cell_type": "markdown",
   "id": "400aed4e-eea7-45d4-868d-63e5180fc19d",
   "metadata": {},
   "source": [
    "Qlik Sense is a self-service Business Intelligence (BI) tool that can be used for creating interactive data visualizations with ease."
   ]
  },
  {
   "cell_type": "markdown",
   "id": "57622232-b221-42ce-9b94-71e5aa494a6c",
   "metadata": {},
   "source": [
    "### Installation and Configuration"
   ]
  },
  {
   "cell_type": "markdown",
   "id": "65bc674c-0c3a-49e5-b8c6-e7c4944b0f08",
   "metadata": {},
   "source": [
    "1. Go to the given GitHub page and download the setup.exe for the latest patch"
   ]
  },
  {
   "cell_type": "markdown",
   "id": "697eb75e-7482-4d8e-a7fe-bb21f8a1adb3",
   "metadata": {},
   "source": [
    "![](Installation_Steps/step1.png)"
   ]
  },
  {
   "cell_type": "markdown",
   "id": "6d52e5f9-7069-4c3d-a0da-00d809f2a70c",
   "metadata": {},
   "source": [
    "### Key Features"
   ]
  },
  {
   "cell_type": "markdown",
   "id": "6e0de61a-48f1-46ba-af02-a6730bf76488",
   "metadata": {},
   "source": [
    "1. No need for complex coding or queries, just drag and drop your file.\n",
    "2. Easily create different visualizations (next image) without any hassle.\n",
    "3. AI does the heavy lifting by providing automated insights. You can ask questions in simple English, and it will understand, generate the right chart or dashboard, and even suggest the best visualizations.\n",
    "    + It also offers automated data storytelling and real-time alerts. For example, if sales suddenly drop, a red alert notifies you immediately.\n",
    "4. Files can be uploaded from multiple sources like Excel, SQL, and cloud platforms, and data is merged quickly for smooth analysis.\n",
    "5. With AI handling these tasks, the process becomes effortless, saving you time while keeping everything user-friendly.\n"
   ]
  },
  {
   "cell_type": "markdown",
   "id": "c91d3500-d7b5-4f81-9486-9c8b93aa8160",
   "metadata": {},
   "source": [
    "### Use Cases"
   ]
  },
  {
   "cell_type": "markdown",
   "id": "b4786a8a-6cdb-4869-bea1-aee721b2e2ac",
   "metadata": {},
   "source": [
    "This software finds great usage in the following scenarios:-\n",
    "\n",
    "* Sales & Revenue Analysis\n",
    "* Customer Segmentation & Behavior Analysis\n",
    "* Financial & Risk Management\n",
    "* Supply Chain & Inventory Management\n",
    "* Healthcare & Patient Data Analytics\n"
   ]
  },
  {
   "cell_type": "markdown",
   "id": "ce1795d8-b224-47f3-8f5e-bf9a322b8db8",
   "metadata": {},
   "source": [
    "### References"
   ]
  },
  {
   "cell_type": "markdown",
   "id": "afe4a733-9c88-4584-94c2-d48a615a2d86",
   "metadata": {},
   "source": [
    "[Tutorial to Install Qlik Sense for Free](https://www.youtube.com/watch?v=jY8vJu7TmWY) "
   ]
  },
  {
   "cell_type": "markdown",
   "id": "ba6dbd11-26e7-4ba7-8d1d-d8bf648bb66f",
   "metadata": {},
   "source": [
    "[Tutorial from Beginner to Advanced for Qlik Sense](https://www.youtube.com/watch?v=ny8d2XlTWsQ)"
   ]
  }
 ],
 "metadata": {
  "kernelspec": {
   "display_name": "Python 3 (ipykernel)",
   "language": "python",
   "name": "python3"
  },
  "language_info": {
   "codemirror_mode": {
    "name": "ipython",
    "version": 3
   },
   "file_extension": ".py",
   "mimetype": "text/x-python",
   "name": "python",
   "nbconvert_exporter": "python",
   "pygments_lexer": "ipython3",
   "version": "3.13.2"
  }
 },
 "nbformat": 4,
 "nbformat_minor": 5
}
