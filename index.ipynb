{
 "cells": [
  {
   "cell_type": "markdown",
   "id": "b89d38b8-5af4-4ba6-895c-364e8115b6ca",
   "metadata": {},
   "source": [
    "# Expository Blog For Qlik Sense"
   ]
  },
  {
   "cell_type": "markdown",
   "id": "7a072b60-1cef-40fb-a137-02699fee1f78",
   "metadata": {},
   "source": [
    "### Introduction"
   ]
  },
  {
   "cell_type": "markdown",
   "id": "400aed4e-eea7-45d4-868d-63e5180fc19d",
   "metadata": {},
   "source": [
    "Qlik Sense is a self-service Business Intelligence (BI) tool that can be used for creating interactive data visualizations with ease.\n",
    "It has two main tools:-\n",
    "\n",
    "* Storytelling - Create a story using the app. This is similar to the ppt which we use in our day-to-day life. You can also add pictures, objects, texts in your presentation.\n",
    "* Sheets - Sheets is a feature which is used to analyze and visualize your data using charts"
   ]
  },
  {
   "cell_type": "markdown",
   "id": "57622232-b221-42ce-9b94-71e5aa494a6c",
   "metadata": {},
   "source": [
    "### Installation and Configuration"
   ]
  },
  {
   "cell_type": "markdown",
   "id": "65bc674c-0c3a-49e5-b8c6-e7c4944b0f08",
   "metadata": {},
   "source": [
    "1. Go to the given GitHub page and download the setup.exe for the latest patch"
   ]
  },
  {
   "cell_type": "markdown",
   "id": "697eb75e-7482-4d8e-a7fe-bb21f8a1adb3",
   "metadata": {},
   "source": [
    "![](Installation_Steps/step1.png)"
   ]
  },
  {
   "cell_type": "markdown",
   "id": "aa0bc3ff-8db8-4e4d-b3fb-80ec5aad5206",
   "metadata": {},
   "source": [
    "2. Start the installation with the default presets"
   ]
  },
  {
   "cell_type": "markdown",
   "id": "5e5f45bb-44bc-4f59-8257-5729fefcbbcd",
   "metadata": {},
   "source": [
    "![](Installation_Steps/step2.png)"
   ]
  },
  {
   "attachments": {},
   "cell_type": "markdown",
   "id": "fa5e8174-b627-44fe-a627-b292660cfd5b",
   "metadata": {},
   "source": [
    "![](Installation_Steps/step3.png)"
   ]
  },
  {
   "cell_type": "markdown",
   "id": "f8a77005-eb5c-4d82-9bd3-6432e80eb417",
   "metadata": {},
   "source": [
    "3. Now go to [Qlik Community Downloads](https://community.qlik.com/t5/Download-Qlik-Products/tkb-p/Downloads) and register for a new account or log in with an existing one"
   ]
  },
  {
   "cell_type": "markdown",
   "id": "0cd91218-c910-470f-81ef-f292bd059fa4",
   "metadata": {},
   "source": [
    "![](Installation_Steps/step4.png)"
   ]
  },
  {
   "cell_type": "markdown",
   "id": "6325068a-0920-4d96-a6e9-2be4b2e0b610",
   "metadata": {},
   "source": [
    "4. Select **\"Product Category\"** : **\"Qlik Data Analytics\"**   **\"Show Releases\"** : **\"Latest release and latest patch\"**   **\"Product\"** : **\"Qlik Sense Desktop\"**, and select the correct **\"Release\"** and **\"Release Number\"** for your installation."
   ]
  },
  {
   "cell_type": "markdown",
   "id": "3bea0916-2dd2-4d8b-83d0-beb964386196",
   "metadata": {},
   "source": [
    "![](Installation_Steps/step5.png)"
   ]
  },
  {
   "cell_type": "markdown",
   "id": "3144e312-423f-420c-93a4-68171d878111",
   "metadata": {},
   "source": [
    "5. Scroll down and select and download the link with the name **Qlik_Sense_Desktop.unlock**"
   ]
  },
  {
   "attachments": {},
   "cell_type": "markdown",
   "id": "6cafb84e-dbdc-41cd-9135-bf5be8e60414",
   "metadata": {},
   "source": [
    "![](Installation_Steps/step6.png)"
   ]
  },
  {
   "cell_type": "markdown",
   "id": "940e3fdc-cfac-490d-846f-86955c684261",
   "metadata": {},
   "source": [
    "6. Go in **C:/Documents/Qlik/Sense** and create a folder with the name **trial** (if it is not already present) and cut and paste the file downloaded in the previous step into it."
   ]
  },
  {
   "attachments": {},
   "cell_type": "markdown",
   "id": "56b23b00-b35f-4426-b475-626a1c660ff8",
   "metadata": {},
   "source": [
    "![](Installation_Steps/step7.png)"
   ]
  },
  {
   "cell_type": "markdown",
   "id": "642285e9-80d7-4e6e-afd6-80183acf2678",
   "metadata": {},
   "source": [
    "7. Now run **Qlik Sense Desktop** and click the **Launch** button besides **Trial: [DD Month YYYY]** to start using the app."
   ]
  },
  {
   "attachments": {},
   "cell_type": "markdown",
   "id": "62671942-a72d-43b9-95ce-1292d7832025",
   "metadata": {},
   "source": [
    "![](Installation_Steps/step8.png)"
   ]
  },
  {
   "cell_type": "markdown",
   "id": "6d52e5f9-7069-4c3d-a0da-00d809f2a70c",
   "metadata": {},
   "source": [
    "### Key Features"
   ]
  },
  {
   "cell_type": "markdown",
   "id": "6e0de61a-48f1-46ba-af02-a6730bf76488",
   "metadata": {},
   "source": [
    "1. No need for complex coding or queries, just drag and drop your file.\n",
    "2. Easily create different visualizations (next image) without any hassle.\n",
    "3. AI does the heavy lifting by providing automated insights. You can ask questions in simple English, and it will understand, generate the right chart or dashboard, and even suggest the best visualizations.\n",
    "    + It also offers automated data storytelling and real-time alerts. For example, if sales suddenly drop, a red alert notifies you immediately.\n",
    "4. Files can be uploaded from multiple sources like Excel, SQL, and cloud platforms, and data is merged quickly for smooth analysis.\n",
    "5. With AI handling these tasks, the process becomes effortless, saving you time while keeping everything user-friendly.\n"
   ]
  },
  {
   "cell_type": "markdown",
   "id": "219f1326-a1f5-47ed-b86e-96be68f80af1",
   "metadata": {},
   "source": [
    "### Usage Example"
   ]
  },
  {
   "cell_type": "markdown",
   "id": "25a7046a-a302-4b4f-9bec-35d5b7084a68",
   "metadata": {},
   "source": [
    "#### Using it to create a story"
   ]
  },
  {
   "cell_type": "markdown",
   "id": "9a6398ff-71f0-40fb-8328-25a5649a56cf",
   "metadata": {},
   "source": [
    "1. Drag and Drop the Chart type in **Sheet**."
   ]
  },
  {
   "cell_type": "markdown",
   "id": "60f90740-59ea-48de-8fe8-1f41c2477769",
   "metadata": {},
   "source": [
    "![](Usage_Examples/1.jpg)"
   ]
  },
  {
   "cell_type": "markdown",
   "id": "9c62e009-4a04-47a0-afd0-1b3722350f69",
   "metadata": {},
   "source": [
    "2. Add all the dimensions required."
   ]
  },
  {
   "cell_type": "markdown",
   "id": "b2cac332-9a80-46fa-b706-dc46df40b16e",
   "metadata": {},
   "source": [
    "![](Usage_Examples/2.jpg)"
   ]
  },
  {
   "cell_type": "markdown",
   "id": "e7c32a1f-6df9-4222-af11-436c8953d7fd",
   "metadata": {},
   "source": [
    "3. Search for the fields."
   ]
  },
  {
   "cell_type": "markdown",
   "id": "84d456be-30fc-4865-bce9-90f4c7130975",
   "metadata": {},
   "source": [
    "![](Usage_Examples/3.jpg)"
   ]
  },
  {
   "cell_type": "markdown",
   "id": "70e0bbc4-e918-48b9-ad5a-a3295c49f2fc",
   "metadata": {},
   "source": [
    "4. Search for the charts created and drag and drop them in the work area."
   ]
  },
  {
   "cell_type": "markdown",
   "id": "5e42949a-312b-409b-84ca-39a224ea342d",
   "metadata": {},
   "source": [
    "![](Usage_Examples/4.jpg)"
   ]
  },
  {
   "cell_type": "markdown",
   "id": "f90583f2-0c6f-45f7-b5ec-b8e36efec2e3",
   "metadata": {},
   "source": [
    "5. You can download the **Sheets** as well after finishing in the form of PDF."
   ]
  },
  {
   "cell_type": "markdown",
   "id": "e59b91ba-67cf-435b-85a9-3ac1617a0c5e",
   "metadata": {},
   "source": [
    "![](Usage_Examples/5.jpg)"
   ]
  },
  {
   "cell_type": "markdown",
   "id": "86d2d97a-ea2e-4bff-9a3c-8e8082b033d2",
   "metadata": {},
   "source": [
    "![](Usage_Examples/6.jpg)"
   ]
  },
  {
   "cell_type": "markdown",
   "id": "c91d3500-d7b5-4f81-9486-9c8b93aa8160",
   "metadata": {},
   "source": [
    "### Use Cases"
   ]
  },
  {
   "cell_type": "markdown",
   "id": "b4786a8a-6cdb-4869-bea1-aee721b2e2ac",
   "metadata": {},
   "source": [
    "This software finds great usage in the following scenarios:-\n",
    "\n",
    "* Sales & Revenue Analysis\n",
    "* Customer Segmentation & Behavior Analysis\n",
    "* Financial & Risk Management\n",
    "* Supply Chain & Inventory Management\n",
    "* Healthcare & Patient Data Analytics\n"
   ]
  },
  {
   "cell_type": "markdown",
   "id": "b9b3cb5f-2539-45d1-a6ce-f528a706f7c3",
   "metadata": {},
   "source": [
    "### Conclusion"
   ]
  },
  {
   "cell_type": "markdown",
   "id": "f3cfdd13-293c-41ea-acd4-fecaeecedc80",
   "metadata": {},
   "source": [
    "Qlik Sense is a powerful BI tool that makes data analysis intuitive and decision making easy using an intuitive interface and AI powered insights. It enables users of all types in businesses to turn raw data into visuals which is simpler to understand and is more actionable. It has both ease-of-use and advanced features and is a good choice for people seeking deeper insights inside their data."
   ]
  },
  {
   "cell_type": "markdown",
   "id": "ce1795d8-b224-47f3-8f5e-bf9a322b8db8",
   "metadata": {},
   "source": [
    "### References"
   ]
  },
  {
   "cell_type": "markdown",
   "id": "afe4a733-9c88-4584-94c2-d48a615a2d86",
   "metadata": {},
   "source": [
    "[Tutorial to Install Qlik Sense for Free](https://www.youtube.com/watch?v=jY8vJu7TmWY) "
   ]
  },
  {
   "cell_type": "markdown",
   "id": "ba6dbd11-26e7-4ba7-8d1d-d8bf648bb66f",
   "metadata": {},
   "source": [
    "[Tutorial from Beginner to Advanced for Qlik Sense](https://www.youtube.com/watch?v=ny8d2XlTWsQ)"
   ]
  }
 ],
 "metadata": {
  "kernelspec": {
   "display_name": "Python 3 (ipykernel)",
   "language": "python",
   "name": "python3"
  },
  "language_info": {
   "codemirror_mode": {
    "name": "ipython",
    "version": 3
   },
   "file_extension": ".py",
   "mimetype": "text/x-python",
   "name": "python",
   "nbconvert_exporter": "python",
   "pygments_lexer": "ipython3",
   "version": "3.13.2"
  }
 },
 "nbformat": 4,
 "nbformat_minor": 5
}
